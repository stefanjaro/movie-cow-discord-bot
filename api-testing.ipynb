{
 "nbformat": 4,
 "nbformat_minor": 2,
 "metadata": {
  "language_info": {
   "name": "python",
   "codemirror_mode": {
    "name": "ipython",
    "version": 3
   },
   "version": "3.6.10-final"
  },
  "orig_nbformat": 2,
  "file_extension": ".py",
  "mimetype": "text/x-python",
  "name": "python",
  "npconvert_exporter": "python",
  "pygments_lexer": "ipython3",
  "version": 3,
  "kernelspec": {
   "name": "python3",
   "display_name": "Python 3"
  }
 },
 "cells": [
  {
   "cell_type": "code",
   "execution_count": 78,
   "metadata": {},
   "outputs": [],
   "source": [
    "# import libraries\n",
    "import os\n",
    "import math\n",
    "import requests\n",
    "import pandas as pd\n",
    "import numpy as np\n",
    "from dotenv import load_dotenv"
   ]
  },
  {
   "cell_type": "code",
   "execution_count": 3,
   "metadata": {},
   "outputs": [],
   "source": [
    "# get api key\n",
    "load_dotenv()\n",
    "API_KEY = os.getenv(\"OMDB_API_KEY\")"
   ]
  },
  {
   "cell_type": "code",
   "execution_count": 41,
   "metadata": {},
   "outputs": [],
   "source": [
    "def get_movie_details(movie_title=None, movie_id=None):\n",
    "    \"\"\"\n",
    "    Query the OMDb API with a movie title to get the movie's details\n",
    "    \"\"\"\n",
    "    # request url\n",
    "    url = r\"http://www.omdbapi.com/\"\n",
    "\n",
    "    # params\n",
    "    params = {\n",
    "        \"apikey\": API_KEY,\n",
    "        \"t\": movie_title,\n",
    "        \"i\": movie_id,\n",
    "        \"plot\": \"full\"\n",
    "    }\n",
    "\n",
    "    # get request\n",
    "    response = requests.get(url, params=params)\n",
    "\n",
    "    return response"
   ]
  },
  {
   "cell_type": "code",
   "execution_count": 5,
   "metadata": {},
   "outputs": [],
   "source": [
    "def search_for_movie(search_string):\n",
    "    \"\"\"\n",
    "    Search for a movie using a search string (only returns the first page)\n",
    "    \"\"\"\n",
    "    # request url\n",
    "    url = r\"http://www.omdbapi.com/\"\n",
    "\n",
    "    # params\n",
    "    params = {\n",
    "        \"apikey\": API_KEY,\n",
    "        \"s\": search_string\n",
    "    }\n",
    "\n",
    "    # get request\n",
    "    response = requests.get(url, params=params)\n",
    "\n",
    "    return response"
   ]
  },
  {
   "cell_type": "code",
   "execution_count": 6,
   "metadata": {},
   "outputs": [],
   "source": [
    "def compile_movie_details_response_to_string(response_json):\n",
    "    \"\"\"\n",
    "    Converts an OMDb json response for movie details into a string for printing in Discord\n",
    "    \"\"\"\n",
    "    # categorized dict keys\n",
    "    basic_info_keys = [\"Title\", \"Released\", \"Runtime\"]\n",
    "    genre_and_plot_keys = [\"Genre\", \"Plot\"]\n",
    "    ratings_and_awards_keys = [\"Awards\", \"imdbRating\", \"imdbVotes\", \"Metascore\"]\n",
    "    cast_and_producers_keys = [\"Director\", \"Writer\", \"Actors\", \"Production\"]\n",
    "    other_information_keys = [\"imdbID\", \"BoxOffice\", \"Website\", \"Country\", \"Rated\"]\n",
    "\n",
    "    # basic info section\n",
    "    compiled = \"=====**BASIC INFORMATION**=====\\n\"\n",
    "    for key in basic_info_keys:\n",
    "        compiled += f\"**{key}**: {response_json.get(key)}\\n\"\n",
    "\n",
    "    # genre and plot section\n",
    "    compiled += \"\\n=====**GENRE AND PLOT**=====\\n\"\n",
    "    for key in genre_and_plot_keys:\n",
    "        if key == \"Plot\":\n",
    "            compiled += f\"**{key} (Click to Reveal)**: ||{response_json.get(key)}||\\n\"\n",
    "        else:\n",
    "            compiled += f\"**{key}**: {response_json.get(key)}\\n\"\n",
    "\n",
    "    # ratings and awards section\n",
    "    compiled += \"\\n=====**RATINGS AND AWARDS**=====\\n\"\n",
    "    for key in ratings_and_awards_keys:\n",
    "        compiled += f\"**{key}**: {response_json.get(key)}\\n\"\n",
    "\n",
    "    # add the other ratings that are stored in a list in the response dict\n",
    "    if response_json.get(\"Ratings\"):\n",
    "        for item in response_json.get(\"Ratings\"):\n",
    "            compiled += f\"**{item.get('Source')}**: {item.get('Value')}\\n\"\n",
    "\n",
    "    # cast and producers section\n",
    "    compiled += \"\\n=====**CAST AND PRODUCERS**=====\\n\"\n",
    "    for key in cast_and_producers_keys:\n",
    "        compiled += f\"**{key}**: {response_json.get(key)}\\n\"\n",
    "\n",
    "    # other information section\n",
    "    compiled += \"\\n=====**OTHER INFORMATION**=====\\n\"\n",
    "    for key in other_information_keys:\n",
    "        compiled += f\"**{key}**: {response_json.get(key)}\\n\"\n",
    "\n",
    "    return compiled"
   ]
  },
  {
   "cell_type": "code",
   "execution_count": 7,
   "metadata": {},
   "outputs": [],
   "source": [
    "def compile_movie_search_response_to_string(response_json):\n",
    "    \"\"\"\n",
    "    Converts an OMDb json response for movie search into a string for printing in Discord\n",
    "    \"\"\"\n",
    "    compiled = \"\"\n",
    "\n",
    "    for pos, result in enumerate(response_json[\"Search\"]):\n",
    "        compiled += f\"**{pos}**: {result.get('Title')} ({result.get('Year')}, {result.get('Type')}) `IMDb ID: {result.get('imdbID')}`\\n\"\n",
    "    \n",
    "    return compiled"
   ]
  }
 ]
}